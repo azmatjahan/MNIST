{
 "cells": [
  {
   "cell_type": "code",
   "execution_count": null,
   "metadata": {
    "collapsed": true
   },
   "outputs": [],
   "source": [
    "import numpy as np\n",
    "import tensorflow as tf\n",
    "import matplotlib.pyplot as plt\n"
   ]
  },
  {
   "cell_type": "code",
   "execution_count": null,
   "metadata": {
    "collapsed": true
   },
   "outputs": [],
   "source": [
    "From numpy import genfromtxt \n",
    "date = genfromtxt('diabetes.csv', delimeter=' , '\n"
   ]
  },
  {
   "cell_type": "code",
   "execution_count": null,
   "metadata": {
    "collapsed": true
   },
   "outputs": [],
   "source": [
    "def sigmoid(x):\n",
    "return 1. / (1. + np.exp(-x))\n",
    "x1_label1 = np.random.normal(3, 1, 1000)\n",
    "x2_label1 = np.random.normal(2, 1, 1000)\n",
    "x1_label2 = np.random.normal(7, 1, 1000)\n",
    "x2_label2 = np.random.normal(6, 1, 1000)\n",
    "x1s = np.append(x1_label1, x1_label2)\n",
    "x2s = np.append(x2_label1, x2_label2)\n",
    "ys = np.asarray([0.] * len(x1_label1) + [1.] * len(x1_label2))"
   ]
  },
  {
   "cell_type": "code",
   "execution_count": null,
   "metadata": {
    "collapsed": true
   },
   "outputs": [],
   "source": [
    "X1 = tf.placeholder(tf.float32, shape=(None,), name=\"Pregnancies\")\n",
    "X2 = tf.placeholder(tf.float32, shape=(None,), name=\"Glcose\")\n",
    "X3 = tf.placeholder(tf.float32, shape=(None,), name=\"BoodPressure\")\n",
    "X4 = tf.placeholder(tf.float32, shape=(None,), name=\"SkinThickness\")\n",
    "X5 = tf.placeholder(tf.float32, shape=(None,), name=\"nsulin\")\n",
    "X6 = tf.placeholder(tf.float32, shape=(None,), name=\"BMI\")\n",
    "X7 = tf.placeholder(tf.float32, shape=(None,), name=\"DiabetesPedigreeFunction\")\n",
    "X8 = tf.placeholder(tf.float32, shape=(None,), name=\"Ae\")\n",
    "\n",
    "Y = tf.placeholder(tf.float32, shape=(None,), name=\"y\")\n",
    "w = tf.Variable([0., 0., 0.], name=\"w\", trainable=True)"
   ]
  },
  {
   "cell_type": "code",
   "execution_count": null,
   "metadata": {
    "collapsed": true
   },
   "outputs": [],
   "source": [
    "y_model = tf.sigmoid(w[2] * X2 + w[1] * X1 + w[0])\n",
    "cost = tf.reduce_mean(-tf.log(y_model * Y + (1 - y_model) * (1 - Y)))\n",
    "train_op = tf.train.GradientDescentOptimizer(learning_rate).minimize(cost)"
   ]
  }
 ],
 "metadata": {
  "kernelspec": {
   "display_name": "Python 3",
   "language": "python",
   "name": "python3"
  },
  "language_info": {
   "codemirror_mode": {
    "name": "ipython",
    "version": 3
   },
   "file_extension": ".py",
   "mimetype": "text/x-python",
   "name": "python",
   "nbconvert_exporter": "python",
   "pygments_lexer": "ipython3",
   "version": "3.6.1"
  }
 },
 "nbformat": 4,
 "nbformat_minor": 2
}
